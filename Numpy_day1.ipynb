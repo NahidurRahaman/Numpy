{
  "cells": [
    {
      "cell_type": "markdown",
      "metadata": {
        "id": "view-in-github",
        "colab_type": "text"
      },
      "source": [
        "<a href=\"https://colab.research.google.com/github/NahidurRahaman/Numpy/blob/main/Numpy_day1.ipynb\" target=\"_parent\"><img src=\"https://colab.research.google.com/assets/colab-badge.svg\" alt=\"Open In Colab\"/></a>"
      ]
    },
    {
      "cell_type": "code",
      "execution_count": 1,
      "id": "a5343ebb",
      "metadata": {
        "id": "a5343ebb"
      },
      "outputs": [],
      "source": [
        "import numpy as np"
      ]
    },
    {
      "cell_type": "code",
      "execution_count": 2,
      "id": "f3dae262",
      "metadata": {
        "colab": {
          "base_uri": "https://localhost:8080/",
          "height": 35
        },
        "id": "f3dae262",
        "outputId": "ab63eb9c-1461-4ad9-85c8-2880498a2752"
      },
      "outputs": [
        {
          "output_type": "execute_result",
          "data": {
            "text/plain": [
              "'2.0.2'"
            ],
            "application/vnd.google.colaboratory.intrinsic+json": {
              "type": "string"
            }
          },
          "metadata": {},
          "execution_count": 2
        }
      ],
      "source": [
        "np.__version__"
      ]
    },
    {
      "cell_type": "code",
      "execution_count": 3,
      "id": "46ca260e",
      "metadata": {
        "colab": {
          "base_uri": "https://localhost:8080/"
        },
        "id": "46ca260e",
        "outputId": "b4fc05eb-a336-4d83-b6a2-cb676d6e4033"
      },
      "outputs": [
        {
          "output_type": "stream",
          "name": "stdout",
          "text": [
            "[1 2 3 4 5]\n",
            "<class 'numpy.ndarray'>\n",
            "(5,)\n"
          ]
        }
      ],
      "source": [
        "nums = [1, 2, 3, 4, 5]\n",
        "my_np_array = np.array(nums)\n",
        "print(my_np_array)\n",
        "print(type(my_np_array))\n",
        "print(my_np_array.shape)"
      ]
    },
    {
      "cell_type": "code",
      "execution_count": 4,
      "id": "b26d8443",
      "metadata": {
        "colab": {
          "base_uri": "https://localhost:8080/"
        },
        "id": "b26d8443",
        "outputId": "770c2f77-582c-436b-ab5d-6b268c62e4ef"
      },
      "outputs": [
        {
          "output_type": "stream",
          "name": "stdout",
          "text": [
            "1\n",
            "5\n"
          ]
        }
      ],
      "source": [
        "print(my_np_array.ndim)\n",
        "print(my_np_array.size)"
      ]
    },
    {
      "cell_type": "code",
      "execution_count": 5,
      "metadata": {
        "colab": {
          "base_uri": "https://localhost:8080/"
        },
        "id": "BypauRgaPwUl",
        "outputId": "43173f7b-da5c-4205-c90f-eb18a2dfe0b6"
      },
      "outputs": [
        {
          "output_type": "execute_result",
          "data": {
            "text/plain": [
              "dtype('int64')"
            ]
          },
          "metadata": {},
          "execution_count": 5
        }
      ],
      "source": [
        "x = 5\n",
        "x\n",
        "my_np_array.dtype"
      ],
      "id": "BypauRgaPwUl"
    },
    {
      "cell_type": "code",
      "execution_count": 6,
      "id": "563e96c9",
      "metadata": {
        "colab": {
          "base_uri": "https://localhost:8080/"
        },
        "id": "563e96c9",
        "outputId": "39c461d2-3412-4d4a-d225-b91f48a6252f"
      },
      "outputs": [
        {
          "output_type": "stream",
          "name": "stdout",
          "text": [
            "[[0. 0. 0. 0.]\n",
            " [0. 0. 0. 0.]\n",
            " [0. 0. 0. 0.]]\n"
          ]
        }
      ],
      "source": [
        "zero_np_array = np.zeros((3, 4))\n",
        "print(zero_np_array)"
      ]
    },
    {
      "cell_type": "code",
      "execution_count": 7,
      "id": "a0fb04bd",
      "metadata": {
        "colab": {
          "base_uri": "https://localhost:8080/"
        },
        "id": "a0fb04bd",
        "outputId": "8e1bda7c-74bb-4376-e952-59190bdcfa6d"
      },
      "outputs": [
        {
          "output_type": "stream",
          "name": "stdout",
          "text": [
            "[[1. 1. 1. 1.]\n",
            " [1. 1. 1. 1.]\n",
            " [1. 1. 1. 1.]]\n"
          ]
        }
      ],
      "source": [
        "one_np_array = np.ones((3, 4))\n",
        "print(one_np_array)"
      ]
    },
    {
      "cell_type": "code",
      "execution_count": 8,
      "id": "024db18b",
      "metadata": {
        "colab": {
          "base_uri": "https://localhost:8080/"
        },
        "id": "024db18b",
        "outputId": "c4b01b05-2d92-479a-b13d-29927d0b8e9a"
      },
      "outputs": [
        {
          "output_type": "stream",
          "name": "stdout",
          "text": [
            "[[5 5 5 5]\n",
            " [5 5 5 5]\n",
            " [5 5 5 5]]\n"
          ]
        }
      ],
      "source": [
        "                              #shape   val\n",
        "specific_num_np_array = np.full((3, 4), 5)\n",
        "print(specific_num_np_array)"
      ]
    },
    {
      "cell_type": "code",
      "execution_count": 9,
      "id": "ee9b6215",
      "metadata": {
        "colab": {
          "base_uri": "https://localhost:8080/"
        },
        "id": "ee9b6215",
        "outputId": "633023a8-563e-47dd-a2d9-88463aaff133"
      },
      "outputs": [
        {
          "output_type": "execute_result",
          "data": {
            "text/plain": [
              "array([[1., 0., 0., 0.],\n",
              "       [0., 1., 0., 0.],\n",
              "       [0., 0., 1., 0.],\n",
              "       [0., 0., 0., 1.]])"
            ]
          },
          "metadata": {},
          "execution_count": 9
        }
      ],
      "source": [
        "identity_matrix = np.eye(4)\n",
        "identity_matrix"
      ]
    },
    {
      "cell_type": "code",
      "execution_count": 10,
      "id": "cd0bcee9",
      "metadata": {
        "colab": {
          "base_uri": "https://localhost:8080/"
        },
        "id": "cd0bcee9",
        "outputId": "f1a7d329-62ad-48cc-9b56-c622933daf28"
      },
      "outputs": [
        {
          "output_type": "execute_result",
          "data": {
            "text/plain": [
              "array([[1., 1., 1., 1.],\n",
              "       [1., 1., 1., 1.],\n",
              "       [1., 1., 1., 1.]])"
            ]
          },
          "metadata": {},
          "execution_count": 10
        }
      ],
      "source": [
        "empty_np_array = np.empty((3, 4)) # array of uninitialized values\n",
        "empty_np_array"
      ]
    },
    {
      "cell_type": "code",
      "execution_count": 11,
      "id": "f30dbf41",
      "metadata": {
        "colab": {
          "base_uri": "https://localhost:8080/"
        },
        "id": "f30dbf41",
        "outputId": "314b1d38-dabb-457b-ae7b-1bb03df49f0d"
      },
      "outputs": [
        {
          "output_type": "stream",
          "name": "stdout",
          "text": [
            "float64\n"
          ]
        }
      ],
      "source": [
        "print(empty_np_array.dtype)"
      ]
    },
    {
      "cell_type": "code",
      "execution_count": 12,
      "id": "89dc7aca",
      "metadata": {
        "colab": {
          "base_uri": "https://localhost:8080/"
        },
        "id": "89dc7aca",
        "outputId": "3b7ff2d6-7e4c-4600-c88b-33bff87694cf"
      },
      "outputs": [
        {
          "output_type": "stream",
          "name": "stdout",
          "text": [
            "int64\n"
          ]
        }
      ],
      "source": [
        "# Type casting\n",
        "empty_np_array = empty_np_array.astype(int)\n",
        "print(empty_np_array.dtype)"
      ]
    },
    {
      "cell_type": "code",
      "execution_count": 13,
      "id": "d5d50e53",
      "metadata": {
        "colab": {
          "base_uri": "https://localhost:8080/"
        },
        "id": "d5d50e53",
        "outputId": "88b360b1-ad8a-4576-8515-f9e902a3717a"
      },
      "outputs": [
        {
          "output_type": "execute_result",
          "data": {
            "text/plain": [
              "array([[1, 1, 1, 1],\n",
              "       [1, 1, 1, 1],\n",
              "       [1, 1, 1, 1]])"
            ]
          },
          "metadata": {},
          "execution_count": 13
        }
      ],
      "source": [
        "empty_np_array"
      ]
    },
    {
      "cell_type": "code",
      "execution_count": 14,
      "id": "ed2d402e",
      "metadata": {
        "colab": {
          "base_uri": "https://localhost:8080/"
        },
        "id": "ed2d402e",
        "outputId": "bf8e0fe6-758c-40ac-8a21-d6924f275941"
      },
      "outputs": [
        {
          "output_type": "execute_result",
          "data": {
            "text/plain": [
              "array([1, 2, 3, 4, 5, 6, 7, 8, 9])"
            ]
          },
          "metadata": {},
          "execution_count": 14
        }
      ],
      "source": [
        "# Sequencial array\n",
        "              # start, stop before, step(default 1)\n",
        "my_arr = np.arange(1,   10)\n",
        "my_arr"
      ]
    },
    {
      "cell_type": "code",
      "execution_count": 15,
      "id": "026cc4ea",
      "metadata": {
        "colab": {
          "base_uri": "https://localhost:8080/"
        },
        "id": "026cc4ea",
        "outputId": "ab1a241c-791e-492c-a52c-a3b58b1bfac0"
      },
      "outputs": [
        {
          "output_type": "execute_result",
          "data": {
            "text/plain": [
              "array([1, 3, 5, 7, 9])"
            ]
          },
          "metadata": {},
          "execution_count": 15
        }
      ],
      "source": [
        "my_arr2 = np.arange(1, 11, 2)\n",
        "my_arr2"
      ]
    },
    {
      "cell_type": "code",
      "execution_count": 16,
      "id": "932fe600",
      "metadata": {
        "colab": {
          "base_uri": "https://localhost:8080/"
        },
        "id": "932fe600",
        "outputId": "a7d38027-3c9f-47c9-98ad-cda3f4299e8a"
      },
      "outputs": [
        {
          "output_type": "execute_result",
          "data": {
            "text/plain": [
              "array([ 0. ,  2.5,  5. ,  7.5, 10. ])"
            ]
          },
          "metadata": {},
          "execution_count": 16
        }
      ],
      "source": [
        "# Linearly spaced array\n",
        "# Example = 0, 2.5, 5, 7.5, 10 #space = 2.5\n",
        "\n",
        "my_arr3 = np.linspace(0, 10, 5)\n",
        "my_arr3"
      ]
    }
  ],
  "metadata": {
    "kernelspec": {
      "display_name": "base",
      "language": "python",
      "name": "python3"
    },
    "language_info": {
      "codemirror_mode": {
        "name": "ipython",
        "version": 3
      },
      "file_extension": ".py",
      "mimetype": "text/x-python",
      "name": "python",
      "nbconvert_exporter": "python",
      "pygments_lexer": "ipython3",
      "version": "3.11.7"
    },
    "colab": {
      "provenance": [],
      "include_colab_link": true
    }
  },
  "nbformat": 4,
  "nbformat_minor": 5
}